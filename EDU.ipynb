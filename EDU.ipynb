{
 "cells": [
  {
   "cell_type": "code",
   "execution_count": 75,
   "metadata": {},
   "outputs": [],
   "source": [
    "import pandas as pd\n",
    "import matplotlib as plt\n",
    "import seaborn as sns "
   ]
  },
  {
   "cell_type": "code",
   "execution_count": 76,
   "metadata": {},
   "outputs": [
    {
     "data": {
      "text/html": [
       "<div>\n",
       "<style scoped>\n",
       "    .dataframe tbody tr th:only-of-type {\n",
       "        vertical-align: middle;\n",
       "    }\n",
       "\n",
       "    .dataframe tbody tr th {\n",
       "        vertical-align: top;\n",
       "    }\n",
       "\n",
       "    .dataframe thead th {\n",
       "        text-align: right;\n",
       "    }\n",
       "</style>\n",
       "<table border=\"1\" class=\"dataframe\">\n",
       "  <thead>\n",
       "    <tr style=\"text-align: right;\">\n",
       "      <th></th>\n",
       "      <th>Job Title</th>\n",
       "      <th>Salary Estimate</th>\n",
       "      <th>Job Description</th>\n",
       "      <th>Rating</th>\n",
       "      <th>Company Name</th>\n",
       "      <th>Location</th>\n",
       "      <th>Headquarters</th>\n",
       "      <th>Size</th>\n",
       "      <th>Founded</th>\n",
       "      <th>Type of ownership</th>\n",
       "      <th>Industry</th>\n",
       "      <th>Sector</th>\n",
       "      <th>Revenue</th>\n",
       "      <th>Competitors</th>\n",
       "      <th>min_salary</th>\n",
       "      <th>max_salary</th>\n",
       "      <th>avg_salary</th>\n",
       "      <th>monthly_wage</th>\n",
       "      <th>company_txt</th>\n",
       "    </tr>\n",
       "  </thead>\n",
       "  <tbody>\n",
       "    <tr>\n",
       "      <th>0</th>\n",
       "      <td>Claims Data Scientist</td>\n",
       "      <td>$80K-$130K (Glassdoor est.)</td>\n",
       "      <td>About ConcertAI\\n\\nConcertAI is the leading pr...</td>\n",
       "      <td>3.8</td>\n",
       "      <td>ConcertAI\\n3.8</td>\n",
       "      <td>Remote</td>\n",
       "      <td>-1</td>\n",
       "      <td>501 to 1000 Employees</td>\n",
       "      <td>2018</td>\n",
       "      <td>Company - Private</td>\n",
       "      <td>Biotech &amp; Pharmaceuticals</td>\n",
       "      <td>Biotech &amp; Pharmaceuticals</td>\n",
       "      <td>Unknown / Non-Applicable</td>\n",
       "      <td>-1</td>\n",
       "      <td>80</td>\n",
       "      <td>130</td>\n",
       "      <td>105.0</td>\n",
       "      <td>8.75</td>\n",
       "      <td>ConcertAI\\n</td>\n",
       "    </tr>\n",
       "    <tr>\n",
       "      <th>1</th>\n",
       "      <td>Data Scientist</td>\n",
       "      <td>$80K-$130K (Glassdoor est.)</td>\n",
       "      <td>Overview\\n\\n\\nJM&amp;A Group is one of the largest...</td>\n",
       "      <td>4.0</td>\n",
       "      <td>JM&amp;A Group\\n4.0</td>\n",
       "      <td>Deerfield Beach, FL</td>\n",
       "      <td>-1</td>\n",
       "      <td>501 to 1000 Employees</td>\n",
       "      <td>1978</td>\n",
       "      <td>Company - Private</td>\n",
       "      <td>Investment Banking &amp; Asset Management</td>\n",
       "      <td>Finance</td>\n",
       "      <td>Unknown / Non-Applicable</td>\n",
       "      <td>-1</td>\n",
       "      <td>80</td>\n",
       "      <td>130</td>\n",
       "      <td>105.0</td>\n",
       "      <td>8.75</td>\n",
       "      <td>JM&amp;A Group\\n</td>\n",
       "    </tr>\n",
       "    <tr>\n",
       "      <th>2</th>\n",
       "      <td>DATA SCIENTIST</td>\n",
       "      <td>$80K-$130K (Glassdoor est.)</td>\n",
       "      <td>JOB SUMMARY\\n\\nThe position will focus on buil...</td>\n",
       "      <td>3.8</td>\n",
       "      <td>Blessing Hospital\\n3.8</td>\n",
       "      <td>Quincy, IL</td>\n",
       "      <td>-1</td>\n",
       "      <td>1001 to 5000 Employees</td>\n",
       "      <td>1875</td>\n",
       "      <td>Nonprofit Organization</td>\n",
       "      <td>Health Care Services &amp; Hospitals</td>\n",
       "      <td>Health Care</td>\n",
       "      <td>$100 to $500 million (USD)</td>\n",
       "      <td>-1</td>\n",
       "      <td>80</td>\n",
       "      <td>130</td>\n",
       "      <td>105.0</td>\n",
       "      <td>8.75</td>\n",
       "      <td>Blessing Hospital\\n</td>\n",
       "    </tr>\n",
       "    <tr>\n",
       "      <th>3</th>\n",
       "      <td>Sr. Data Scientist</td>\n",
       "      <td>$80K-$130K (Glassdoor est.)</td>\n",
       "      <td>Overview:\\n\\nMedifast is seeking a full-time S...</td>\n",
       "      <td>2.9</td>\n",
       "      <td>Medifast, Inc.\\n2.9</td>\n",
       "      <td>Baltimore, MD</td>\n",
       "      <td>-1</td>\n",
       "      <td>501 to 1000 Employees</td>\n",
       "      <td>1980</td>\n",
       "      <td>Company - Public</td>\n",
       "      <td>Health, Beauty, &amp; Fitness</td>\n",
       "      <td>Consumer Services</td>\n",
       "      <td>$500 million to $1 billion (USD)</td>\n",
       "      <td>-1</td>\n",
       "      <td>80</td>\n",
       "      <td>130</td>\n",
       "      <td>105.0</td>\n",
       "      <td>8.75</td>\n",
       "      <td>Medifast, Inc.\\n</td>\n",
       "    </tr>\n",
       "    <tr>\n",
       "      <th>4</th>\n",
       "      <td>Data Scientist</td>\n",
       "      <td>$80K-$130K (Glassdoor est.)</td>\n",
       "      <td>Job Description:\\n\\nOur Advanced Data Analytic...</td>\n",
       "      <td>3.0</td>\n",
       "      <td>Metron, Inc.\\n3.0</td>\n",
       "      <td>Reston, VA</td>\n",
       "      <td>-1</td>\n",
       "      <td>51 to 200 Employees</td>\n",
       "      <td>-1</td>\n",
       "      <td>Company - Private</td>\n",
       "      <td>Electrical &amp; Electronic Manufacturing</td>\n",
       "      <td>Manufacturing</td>\n",
       "      <td>$25 to $50 million (USD)</td>\n",
       "      <td>-1</td>\n",
       "      <td>80</td>\n",
       "      <td>130</td>\n",
       "      <td>105.0</td>\n",
       "      <td>8.75</td>\n",
       "      <td>Metron, Inc.\\n</td>\n",
       "    </tr>\n",
       "  </tbody>\n",
       "</table>\n",
       "</div>"
      ],
      "text/plain": [
       "               Job Title              Salary Estimate  \\\n",
       "0  Claims Data Scientist  $80K-$130K (Glassdoor est.)   \n",
       "1         Data Scientist  $80K-$130K (Glassdoor est.)   \n",
       "2         DATA SCIENTIST  $80K-$130K (Glassdoor est.)   \n",
       "3     Sr. Data Scientist  $80K-$130K (Glassdoor est.)   \n",
       "4         Data Scientist  $80K-$130K (Glassdoor est.)   \n",
       "\n",
       "                                     Job Description  Rating  \\\n",
       "0  About ConcertAI\\n\\nConcertAI is the leading pr...     3.8   \n",
       "1  Overview\\n\\n\\nJM&A Group is one of the largest...     4.0   \n",
       "2  JOB SUMMARY\\n\\nThe position will focus on buil...     3.8   \n",
       "3  Overview:\\n\\nMedifast is seeking a full-time S...     2.9   \n",
       "4  Job Description:\\n\\nOur Advanced Data Analytic...     3.0   \n",
       "\n",
       "             Company Name             Location  Headquarters  \\\n",
       "0          ConcertAI\\n3.8               Remote            -1   \n",
       "1         JM&A Group\\n4.0  Deerfield Beach, FL            -1   \n",
       "2  Blessing Hospital\\n3.8           Quincy, IL            -1   \n",
       "3     Medifast, Inc.\\n2.9        Baltimore, MD            -1   \n",
       "4       Metron, Inc.\\n3.0           Reston, VA            -1   \n",
       "\n",
       "                     Size  Founded       Type of ownership  \\\n",
       "0   501 to 1000 Employees     2018       Company - Private   \n",
       "1   501 to 1000 Employees     1978       Company - Private   \n",
       "2  1001 to 5000 Employees     1875  Nonprofit Organization   \n",
       "3   501 to 1000 Employees     1980        Company - Public   \n",
       "4     51 to 200 Employees       -1       Company - Private   \n",
       "\n",
       "                                Industry                     Sector  \\\n",
       "0              Biotech & Pharmaceuticals  Biotech & Pharmaceuticals   \n",
       "1  Investment Banking & Asset Management                    Finance   \n",
       "2       Health Care Services & Hospitals                Health Care   \n",
       "3              Health, Beauty, & Fitness          Consumer Services   \n",
       "4  Electrical & Electronic Manufacturing              Manufacturing   \n",
       "\n",
       "                            Revenue  Competitors  min_salary  max_salary  \\\n",
       "0          Unknown / Non-Applicable           -1          80         130   \n",
       "1          Unknown / Non-Applicable           -1          80         130   \n",
       "2        $100 to $500 million (USD)           -1          80         130   \n",
       "3  $500 million to $1 billion (USD)           -1          80         130   \n",
       "4          $25 to $50 million (USD)           -1          80         130   \n",
       "\n",
       "   avg_salary  monthly_wage          company_txt  \n",
       "0       105.0          8.75          ConcertAI\\n  \n",
       "1       105.0          8.75         JM&A Group\\n  \n",
       "2       105.0          8.75  Blessing Hospital\\n  \n",
       "3       105.0          8.75     Medifast, Inc.\\n  \n",
       "4       105.0          8.75       Metron, Inc.\\n  "
      ]
     },
     "execution_count": 76,
     "metadata": {},
     "output_type": "execute_result"
    }
   ],
   "source": [
    "df = pd.read_csv('D:\\\\Nikita\\Data Science\\salary_proj\\glassdoor_jobs_1.csv')\n",
    "df.head()"
   ]
  },
  {
   "cell_type": "code",
   "execution_count": 77,
   "metadata": {},
   "outputs": [],
   "source": [
    "def title_simplifier(title):\n",
    "    if 'data scientist' in title.lower():\n",
    "        return 'data scientist'\n",
    "    elif 'data engineer' in title.lower():\n",
    "        return 'data engineer'\n",
    "    elif 'analyst' in title.lower():\n",
    "        return 'analyst'\n",
    "    elif 'machine learning' in title.lower():\n",
    "        return 'mle'\n",
    "    elif 'manager' in title.lower():\n",
    "        return 'manager'\n",
    "    elif 'director' in title.lower():\n",
    "        return 'director'\n",
    "    else:\n",
    "        return 'n/a'\n",
    "\n",
    "def seniority(title):\n",
    "    if 'sr' in title.lower() or 'senior' in title.lower() or 'lead' in title.lower() or 'principal' in title.lower():\n",
    "        return 'senior'\n",
    "    elif 'jr' in title.lower():# or 'junior' in title.lower():\n",
    "        return 'junior'\n",
    "    else:\n",
    "        return 'n/a' \n",
    "    "
   ]
  },
  {
   "cell_type": "code",
   "execution_count": 78,
   "metadata": {},
   "outputs": [],
   "source": [
    "df['job_simp'] = df['Job Title'].apply(title_simplifier)  "
   ]
  },
  {
   "cell_type": "code",
   "execution_count": 79,
   "metadata": {},
   "outputs": [
    {
     "data": {
      "text/plain": [
       "data scientist    62\n",
       "analyst           18\n",
       "n/a               10\n",
       "data engineer      5\n",
       "mle                3\n",
       "manager            1\n",
       "Name: job_simp, dtype: int64"
      ]
     },
     "execution_count": 79,
     "metadata": {},
     "output_type": "execute_result"
    }
   ],
   "source": [
    "df.job_simp.value_counts()"
   ]
  },
  {
   "cell_type": "code",
   "execution_count": 80,
   "metadata": {},
   "outputs": [],
   "source": [
    "df['seniority'] = df['Job Title'].apply(seniority)  "
   ]
  },
  {
   "cell_type": "code",
   "execution_count": 81,
   "metadata": {},
   "outputs": [
    {
     "data": {
      "text/plain": [
       "n/a       80\n",
       "senior    19\n",
       "Name: seniority, dtype: int64"
      ]
     },
     "execution_count": 81,
     "metadata": {},
     "output_type": "execute_result"
    }
   ],
   "source": [
    "df.seniority.value_counts()"
   ]
  },
  {
   "cell_type": "code",
   "execution_count": 82,
   "metadata": {},
   "outputs": [
    {
     "data": {
      "text/plain": [
       "['Job Title',\n",
       " 'Salary Estimate',\n",
       " 'Job Description',\n",
       " 'Rating',\n",
       " 'Company Name',\n",
       " 'Location',\n",
       " 'Headquarters',\n",
       " 'Size',\n",
       " 'Founded',\n",
       " 'Type of ownership',\n",
       " 'Industry',\n",
       " 'Sector',\n",
       " 'Revenue',\n",
       " 'Competitors',\n",
       " 'min_salary',\n",
       " 'max_salary',\n",
       " 'avg_salary',\n",
       " 'monthly_wage',\n",
       " 'company_txt',\n",
       " 'job_simp',\n",
       " 'seniority']"
      ]
     },
     "execution_count": 82,
     "metadata": {},
     "output_type": "execute_result"
    }
   ],
   "source": [
    "list(df.columns)"
   ]
  },
  {
   "cell_type": "code",
   "execution_count": null,
   "metadata": {},
   "outputs": [],
   "source": []
  },
  {
   "cell_type": "code",
   "execution_count": null,
   "metadata": {},
   "outputs": [],
   "source": []
  },
  {
   "cell_type": "code",
   "execution_count": null,
   "metadata": {},
   "outputs": [],
   "source": []
  },
  {
   "cell_type": "code",
   "execution_count": null,
   "metadata": {},
   "outputs": [],
   "source": []
  },
  {
   "cell_type": "code",
   "execution_count": null,
   "metadata": {},
   "outputs": [],
   "source": []
  },
  {
   "cell_type": "code",
   "execution_count": null,
   "metadata": {},
   "outputs": [],
   "source": []
  },
  {
   "cell_type": "code",
   "execution_count": null,
   "metadata": {},
   "outputs": [],
   "source": []
  },
  {
   "cell_type": "code",
   "execution_count": null,
   "metadata": {},
   "outputs": [],
   "source": []
  },
  {
   "cell_type": "code",
   "execution_count": null,
   "metadata": {},
   "outputs": [],
   "source": []
  },
  {
   "cell_type": "code",
   "execution_count": null,
   "metadata": {},
   "outputs": [],
   "source": []
  },
  {
   "cell_type": "code",
   "execution_count": null,
   "metadata": {},
   "outputs": [],
   "source": []
  },
  {
   "cell_type": "code",
   "execution_count": null,
   "metadata": {},
   "outputs": [],
   "source": []
  }
 ],
 "metadata": {
  "kernelspec": {
   "display_name": "Python [conda env:nikitamobile] *",
   "language": "python",
   "name": "conda-env-nikitamobile-py"
  },
  "language_info": {
   "codemirror_mode": {
    "name": "ipython",
    "version": 3
   },
   "file_extension": ".py",
   "mimetype": "text/x-python",
   "name": "python",
   "nbconvert_exporter": "python",
   "pygments_lexer": "ipython3",
   "version": "3.8.5"
  }
 },
 "nbformat": 4,
 "nbformat_minor": 4
}
